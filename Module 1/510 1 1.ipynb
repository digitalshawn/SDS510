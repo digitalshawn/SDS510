{
  "cells": [
    {
      "cell_type": "markdown",
      "metadata": {
        "id": "o3NqsDZpTrTO"
      },
      "source": [
        "[![Open In Colab](https://colab.research.google.com/assets/colab-badge.svg)](https://colab.research.google.com/github/digitalshawn/blob/master/Module 1/510 1 1.ipynb)\n",
        "\n",
        "# SDS 510 Module 1.1\n",
        "## Supercomputer Calculator"
      ]
    },
    {
      "cell_type": "markdown",
      "metadata": {
        "id": "K3XcoONMUD6T"
      },
      "source": [
        "We are going to start out by using Google Colab, which lets us jump right into Python without having to deal with installing anything or the like. Colab lets Google run the Python interpreter for us, and lets us play with it right away.\n",
        "\n",
        "The notebooks we create we can save on our Google Drive. If you want to make changes to this notebook you can choose **File>Open in playground mode** or you can save a copy to your own Google drive.\n",
        "\n",
        "In this first module we are going to get you comfortable with solving problems with code, and by the end you will have an actual, functional piece of code you can use."
      ]
    },
    {
      "cell_type": "markdown",
      "metadata": {
        "id": "aLs8dtgEdCEE"
      },
      "source": [
        "Addition."
      ]
    },
    {
      "cell_type": "code",
      "execution_count": null,
      "metadata": {
        "colab": {
          "base_uri": "https://localhost:8080/"
        },
        "id": "-vOzYN9Qc5AE",
        "outputId": "1e578d02-0216-4515-e139-db9ced4ed6db"
      },
      "outputs": [
        {
          "data": {
            "text/plain": [
              "10"
            ]
          },
          "execution_count": 1,
          "metadata": {
            "tags": []
          },
          "output_type": "execute_result"
        }
      ],
      "source": [
        "5+5"
      ]
    },
    {
      "cell_type": "markdown",
      "metadata": {
        "id": "M592e9bNdHD2"
      },
      "source": [
        "Subtraction, multiplication, division, and exponents.\n"
      ]
    },
    {
      "cell_type": "code",
      "execution_count": null,
      "metadata": {
        "colab": {
          "base_uri": "https://localhost:8080/"
        },
        "id": "nIpOIQWtdMba",
        "outputId": "558bd59c-6545-4b69-bd3c-337f048d08cd"
      },
      "outputs": [
        {
          "data": {
            "text/plain": [
              "0"
            ]
          },
          "execution_count": 2,
          "metadata": {
            "tags": []
          },
          "output_type": "execute_result"
        }
      ],
      "source": [
        "5-5"
      ]
    },
    {
      "cell_type": "code",
      "execution_count": null,
      "metadata": {
        "colab": {
          "base_uri": "https://localhost:8080/"
        },
        "id": "uJC7VFdXdTgS",
        "outputId": "6563902a-0254-4d37-9910-aacd410530ff"
      },
      "outputs": [
        {
          "data": {
            "text/plain": [
              "25"
            ]
          },
          "execution_count": 3,
          "metadata": {
            "tags": []
          },
          "output_type": "execute_result"
        }
      ],
      "source": [
        "5*5"
      ]
    },
    {
      "cell_type": "code",
      "execution_count": null,
      "metadata": {
        "colab": {
          "base_uri": "https://localhost:8080/"
        },
        "id": "hI1X8QcxdXfc",
        "outputId": "0020cb97-3c1c-4017-c8b5-35590f94104e"
      },
      "outputs": [
        {
          "data": {
            "text/plain": [
              "2.5"
            ]
          },
          "execution_count": 5,
          "metadata": {
            "tags": []
          },
          "output_type": "execute_result"
        }
      ],
      "source": [
        "5/2"
      ]
    },
    {
      "cell_type": "code",
      "execution_count": null,
      "metadata": {
        "colab": {
          "base_uri": "https://localhost:8080/"
        },
        "id": "cdg6jDiudqSg",
        "outputId": "3000681e-f866-4f1d-a71b-392b657ba073"
      },
      "outputs": [
        {
          "data": {
            "text/plain": [
              "25"
            ]
          },
          "execution_count": 8,
          "metadata": {
            "tags": []
          },
          "output_type": "execute_result"
        }
      ],
      "source": [
        "5**2"
      ]
    },
    {
      "cell_type": "markdown",
      "metadata": {
        "id": "iFYNicMCp1gV"
      },
      "source": [
        "Floor and modulus."
      ]
    },
    {
      "cell_type": "code",
      "execution_count": null,
      "metadata": {
        "colab": {
          "base_uri": "https://localhost:8080/"
        },
        "id": "Cfcol25up_iY",
        "outputId": "bde46757-6414-4e7f-9b04-471180e0d49a"
      },
      "outputs": [
        {
          "data": {
            "text/plain": [
              "2"
            ]
          },
          "execution_count": 1,
          "metadata": {
            "tags": []
          },
          "output_type": "execute_result"
        }
      ],
      "source": [
        "5//2"
      ]
    },
    {
      "cell_type": "code",
      "execution_count": null,
      "metadata": {
        "colab": {
          "base_uri": "https://localhost:8080/"
        },
        "id": "9aXRltL4qV_4",
        "outputId": "deeeba83-458f-4003-c149-f5c30e7286f0"
      },
      "outputs": [
        {
          "data": {
            "text/plain": [
              "1"
            ]
          },
          "execution_count": 2,
          "metadata": {
            "tags": []
          },
          "output_type": "execute_result"
        }
      ],
      "source": [
        "5%2"
      ]
    },
    {
      "cell_type": "markdown",
      "metadata": {
        "id": "WX3tfHo9dvju"
      },
      "source": [
        "Order of operations."
      ]
    },
    {
      "cell_type": "code",
      "execution_count": null,
      "metadata": {
        "colab": {
          "base_uri": "https://localhost:8080/"
        },
        "id": "xwR-PlKkdvxl",
        "outputId": "443d7581-e75c-4a8e-97de-f1586e73d811"
      },
      "outputs": [
        {
          "data": {
            "text/plain": [
              "20"
            ]
          },
          "execution_count": 10,
          "metadata": {
            "tags": []
          },
          "output_type": "execute_result"
        }
      ],
      "source": [
        "(3+2)*4"
      ]
    },
    {
      "cell_type": "markdown",
      "metadata": {
        "id": "-iv9jcd0eDZv"
      },
      "source": [
        "Comparisons."
      ]
    },
    {
      "cell_type": "code",
      "execution_count": null,
      "metadata": {
        "colab": {
          "base_uri": "https://localhost:8080/"
        },
        "id": "-JxLPX5QfgJ7",
        "outputId": "687bc015-520c-4451-ea0c-fd22750e0fc6"
      },
      "outputs": [
        {
          "data": {
            "text/plain": [
              "True"
            ]
          },
          "execution_count": 17,
          "metadata": {
            "tags": []
          },
          "output_type": "execute_result"
        }
      ],
      "source": [
        "5>2"
      ]
    },
    {
      "cell_type": "code",
      "execution_count": null,
      "metadata": {
        "colab": {
          "base_uri": "https://localhost:8080/"
        },
        "id": "4Tnq6aONfi39",
        "outputId": "116dd2f3-e4aa-45fe-eec5-8e3352a3319d"
      },
      "outputs": [
        {
          "data": {
            "text/plain": [
              "False"
            ]
          },
          "execution_count": 18,
          "metadata": {
            "tags": []
          },
          "output_type": "execute_result"
        }
      ],
      "source": [
        "5<2"
      ]
    },
    {
      "cell_type": "code",
      "execution_count": null,
      "metadata": {
        "colab": {
          "base_uri": "https://localhost:8080/",
          "height": 135
        },
        "id": "EJIgsN2qfnAp",
        "outputId": "a8016aaf-b0e6-4f4d-fd48-295e87633f75"
      },
      "outputs": [
        {
          "ename": "SyntaxError",
          "evalue": "ignored",
          "output_type": "error",
          "traceback": [
            "\u001b[0;36m  File \u001b[0;32m\"<ipython-input-19-fd606e25f666>\"\u001b[0;36m, line \u001b[0;32m1\u001b[0m\n\u001b[0;31m    5 = 5\u001b[0m\n\u001b[0m         ^\u001b[0m\n\u001b[0;31mSyntaxError\u001b[0m\u001b[0;31m:\u001b[0m can't assign to literal\n"
          ]
        }
      ],
      "source": [
        "5 = 5"
      ]
    },
    {
      "cell_type": "markdown",
      "metadata": {
        "id": "7HNNb7nQfrG3"
      },
      "source": [
        "It is important to note that = is not the operator for comparing two values. for that we use ==. The reason for this is that = is used to assign values to variables, something we will do below. For now, let's use the == operator.\n",
        "\n",
        "It is also important to note that errors do not break anything. They are our friend! We will be seeing a lot of them to come!"
      ]
    },
    {
      "cell_type": "code",
      "execution_count": null,
      "metadata": {
        "colab": {
          "base_uri": "https://localhost:8080/"
        },
        "id": "bhUVaDXxeDsv",
        "outputId": "bc781b72-24a7-4dad-d825-96ffd78203b0"
      },
      "outputs": [
        {
          "data": {
            "text/plain": [
              "True"
            ]
          },
          "execution_count": 16,
          "metadata": {
            "tags": []
          },
          "output_type": "execute_result"
        }
      ],
      "source": [
        "5 == 2+3"
      ]
    }
  ],
  "metadata": {
    "colab": {
      "provenance": []
    },
    "kernelspec": {
      "display_name": "Python 3",
      "name": "python3"
    }
  },
  "nbformat": 4,
  "nbformat_minor": 0
}
